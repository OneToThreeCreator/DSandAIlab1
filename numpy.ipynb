{
 "cells": [
  {
   "cell_type": "markdown",
   "metadata": {
    "id": "vC84e9kzyxPy"
   },
   "source": [
    "<h1>Импорт библиотек"
   ]
  },
  {
   "cell_type": "code",
   "execution_count": 1,
   "metadata": {
    "id": "cgKeNegmQG5S"
   },
   "outputs": [],
   "source": [
    "import numpy as np\n",
    "import matplotlib.pyplot as plt\n",
    "import math\n",
    "rng = np.random.default_rng()"
   ]
  },
  {
   "cell_type": "markdown",
   "metadata": {
    "id": "qFM9uVU2x4Ls"
   },
   "source": [
    "<h1>Задача 1. Дан набор из $p$ матриц размерностью $(n, n)$ и $p$ векторов размерностью $(n, 1)$, найти сумму произведений матриц на векторы. Написать тесты для кода"
   ]
  },
  {
   "cell_type": "code",
   "execution_count": 2,
   "metadata": {
    "id": "IAbUvEiYyWFF"
   },
   "outputs": [
    {
     "name": "stdout",
     "output_type": "stream",
     "text": [
      "[[7]\n",
      " [8]]\n"
     ]
    }
   ],
   "source": [
    "def sum_prod(X, V):\n",
    "    '''\n",
    "    X - матрицы (n, n)\n",
    "    V - векторы (n, 1)\n",
    "    Гарантируется, что len(X) == len(V)\n",
    "    '''\n",
    "    return np.sum(np.inner(X, V)[:, :, :1], axis=0)\n",
    "\n",
    "print(sum_prod(np.array([[[1, 0], [0, 1]], [[1, 1], [1, 1]]]), np.array([[2, 3], [2, 3]])))"
   ]
  },
  {
   "cell_type": "markdown",
   "metadata": {
    "id": "TKwPG4fIy2w4"
   },
   "source": [
    "<h1>Задача 2. Дана матрица M, напишите функцию, которая бинаризует матрицу по некоторому threshold (то есть, все значения большие threshold становятся равными 1, иначе 0). Напишите тесты для кода"
   ]
  },
  {
   "cell_type": "code",
   "execution_count": 3,
   "metadata": {
    "id": "KQDNMgsjRNH7"
   },
   "outputs": [
    {
     "name": "stdout",
     "output_type": "stream",
     "text": [
      "[[ True False]\n",
      " [False  True]]\n"
     ]
    }
   ],
   "source": [
    "def binarize(M, threshold=0.5):\n",
    "    # Your code goes here\n",
    "    return M > threshold\n",
    "\n",
    "print(binarize(np.array([[0.7, 0.4], [0.1, 0.8]])))"
   ]
  },
  {
   "cell_type": "markdown",
   "metadata": {
    "id": "IY5L-h-7zWhN"
   },
   "source": [
    "<h1>Задача 3. Напишите функцию, которая возвращает уникальные элементы из каждой строки матрицы. Напишите такую же функцию, но для столбцов. Напишите тесты для кода"
   ]
  },
  {
   "cell_type": "code",
   "execution_count": 4,
   "metadata": {
    "id": "-8dEZhR0SBC-"
   },
   "outputs": [
    {
     "name": "stdout",
     "output_type": "stream",
     "text": [
      "[[1, 2, 3], [1, 2], [3, 5]]\n",
      "[[1, 3], [1, 2, 5], [2, 3]]\n"
     ]
    }
   ],
   "source": [
    "def to_python_nums(s):\n",
    "    return list(map(int, s))\n",
    "\n",
    "def unique_rows(mat):\n",
    "    return list(map(to_python_nums, np.apply_along_axis(set, 1, mat)))\n",
    "\n",
    "def unique_columns(mat):\n",
    "    return list(map(to_python_nums, np.apply_along_axis(set, 0, mat)))\n",
    "\n",
    "print(unique_rows(np.array([[1, 2, 3], [1, 1, 2], [3, 5, 3]])))\n",
    "print(unique_columns(np.array([[1, 2, 3], [1, 1, 2], [3, 5, 3]])))"
   ]
  },
  {
   "cell_type": "markdown",
   "metadata": {
    "id": "roYAlo4Jz-lH"
   },
   "source": [
    "<h1>Задача 4. Напишите функцию, которая заполняет матрицу с размерами $(m, n)$ случайными числами, распределенными по нормальному закону. Затем считает мат. ожидание и дисперсию для каждого из столбцов и строк, а также строит для каждой строки и столбца гистограмму значений (использовать функцию hist из модуля matplotlib.plot)"
   ]
  },
  {
   "cell_type": "code",
   "execution_count": 15,
   "metadata": {
    "id": "nZK_71hMSQzv"
   },
   "outputs": [],
   "source": [
    "def generate_gaussian(m, n):\n",
    "    return rng.standard_normal((n, m)) * 8589934591 * rng.random()"
   ]
  },
  {
   "cell_type": "code",
   "execution_count": 21,
   "metadata": {},
   "outputs": [],
   "source": [
    "def expected_value_cols(mat):\n",
    "    return np.mean(mat, axis=0)\n",
    "\n",
    "def expected_value_rows(mat):\n",
    "    return np.mean(mat, axis=1)\n",
    "\n",
    "def variance_cols(mat):\n",
    "    return np.var(mat, axis=0)\n",
    "\n",
    "def variance_rows(mat):\n",
    "    return np.var(mat, axis=1)\n",
    "\n",
    "def hist_every_row_and_column(mat): # I'm sure this is not what was desired, but it tries to follow the specified task (the way it was specified anyway)\n",
    "    for i in range(mat.shape[0]):\n",
    "        plt.hist(mat[i])\n",
    "    mat2 = np.reshape(mat, mat.shape, order=\"F\")\n",
    "    for i in range(mat2.shape[0]):\n",
    "        plt.hist(mat2[i])"
   ]
  },
  {
   "cell_type": "code",
   "execution_count": 22,
   "metadata": {},
   "outputs": [
    {
     "name": "stdout",
     "output_type": "stream",
     "text": [
      "[ 6.88180601e+08 -1.84482268e+09  2.92451463e+07 -7.75625719e+08\n",
      "  3.25159879e+08  4.40134504e+08 -8.26982707e+08 -9.96406809e+08\n",
      "  1.24608062e+09 -1.19872364e+08] [-1.09898803e+09  7.63242730e+08  6.94054401e+08 -8.70008473e+08\n",
      "  4.99194401e+08  1.24160852e+06 -1.23061965e+09 -4.49008188e+08\n",
      "  3.94726354e+07] [3.52912464e+18 5.46452598e+18 4.64002220e+18 3.97744973e+18\n",
      " 3.01315029e+18 1.26963433e+18 1.96379589e+18 2.86922249e+18\n",
      " 6.20065803e+18 4.29594765e+18] [5.97127936e+18 3.26237544e+18 8.90320616e+17 4.70569386e+18\n",
      " 1.28968104e+18 4.14095398e+18 3.98798957e+18 3.61711103e+18\n",
      " 7.86045193e+18]\n"
     ]
    },
    {
     "data": {
      "image/png": "[encoded data removed]",
      "text/plain": [
       "<Figure size 640x480 with 1 Axes>"
      ]
     },
     "metadata": {},
     "output_type": "display_data"
    }
   ],
   "source": [
    "mat = generate_gaussian(10, 9)\n",
    "print(expected_value_cols(mat), expected_value_rows(mat), variance_cols(mat), variance_rows(mat))\n",
    "hist_every_row_and_column(mat)"
   ]
  },
  {
   "cell_type": "markdown",
   "metadata": {
    "id": "BDyATNdM0dJ2"
   },
   "source": [
    "<h1>Задача 5. Напишите функцию, которая заполняет матрицу $(m, n)$ в шахматном порядке заданными числами $a$ и $b$. Напишите тесты для кода"
   ]
  },
  {
   "cell_type": "code",
   "execution_count": 6,
   "metadata": {
    "id": "RWNJYWQGecS6"
   },
   "outputs": [
    {
     "name": "stdout",
     "output_type": "stream",
     "text": [
      "[[0 1 0 1 0 1 0 1]\n",
      " [1 0 1 0 1 0 1 0]\n",
      " [0 1 0 1 0 1 0 1]\n",
      " [1 0 1 0 1 0 1 0]\n",
      " [0 1 0 1 0 1 0 1]\n",
      " [1 0 1 0 1 0 1 0]\n",
      " [0 1 0 1 0 1 0 1]\n",
      " [1 0 1 0 1 0 1 0]]\n",
      "\n",
      "[[0 1 0 1 0 1 0 1]\n",
      " [1 0 1 0 1 0 1 0]\n",
      " [0 1 0 1 0 1 0 1]\n",
      " [1 0 1 0 1 0 1 0]\n",
      " [0 1 0 1 0 1 0 1]\n",
      " [1 0 1 0 1 0 1 0]\n",
      " [0 1 0 1 0 1 0 1]]\n",
      "\n",
      "[[0 1 0 1 0 1 0]\n",
      " [1 0 1 0 1 0 1]\n",
      " [0 1 0 1 0 1 0]\n",
      " [1 0 1 0 1 0 1]\n",
      " [0 1 0 1 0 1 0]\n",
      " [1 0 1 0 1 0 1]\n",
      " [0 1 0 1 0 1 0]\n",
      " [1 0 1 0 1 0 1]]\n",
      "\n",
      "[[0 1 0 1 0 1 0]\n",
      " [1 0 1 0 1 0 1]\n",
      " [0 1 0 1 0 1 0]\n",
      " [1 0 1 0 1 0 1]\n",
      " [0 1 0 1 0 1 0]\n",
      " [1 0 1 0 1 0 1]\n",
      " [0 1 0 1 0 1 0]]\n",
      "\n"
     ]
    }
   ],
   "source": [
    "def chess(m, n, a, b):\n",
    "    if n % 2 != m % 2:\n",
    "        return np.tile(np.array([a, b]), (n * m // 2)).reshape(m, n, order=\"C\" if m % 2 == 0 else \"F\")\n",
    "    if n % 2 != 0 and m % 2 != 0:\n",
    "        return np.append(np.tile(np.array([a, b]), (n * m // 2)), a).reshape(m, n)\n",
    "    return np.tile([np.tile(np.array([a, b]), n // 2), np.tile(np.array([b, a]), n // 2)], (m // 2, 1))\n",
    "\n",
    "print(chess(8, 8, 0, 1), end=\"\\n\\n\")\n",
    "print(chess(7, 8, 0, 1), end=\"\\n\\n\")\n",
    "print(chess(8, 7, 0, 1), end=\"\\n\\n\")\n",
    "print(chess(7, 7, 0, 1), end=\"\\n\\n\")"
   ]
  },
  {
   "cell_type": "markdown",
   "metadata": {
    "id": "-ymXLtTN0vB6"
   },
   "source": [
    "<h1>Задача 6. Напишите функцию, которая отрисовывает прямоугольник с заданными размерами (a, b) на изображении размера (m, n), цвет фона задайте в схеме RGB, как и цвет прямоугольника. Цвета также должны быть параметрами функции. Напишите аналогичную функцию но для овала с полуосями a и b. Напишите тесты для кода.\n",
    "Примечание: уравнение эллипса (границы овала) можно записать как:\n",
    "<h1>$\\frac{(x-x_0)^2}{a^2}+\\frac{(y-y_0)^2}{b^2}=1$"
   ]
  },
  {
   "cell_type": "code",
   "execution_count": 7,
   "metadata": {
    "id": "sNfl1t_kfOF4"
   },
   "outputs": [],
   "source": [
    "def draw_rectangle(a, b, m, n, rectangle_color, background_color):\n",
    "    img = np.full((b, a, 3), background_color)\n",
    "    for j in range(b // 2 - n // 2, b // 2 + (n + 1) // 2):\n",
    "        for i in range(a // 2 - m // 2, a // 2 + (m + 1) // 2):\n",
    "            img[j, i] = rectangle_color\n",
    "    plt.imshow(img)\n",
    "\n",
    "def draw_ellipse(a, b, m, n, ellipse_color, background_color):\n",
    "    img = np.full((b, a, 3), background_color)\n",
    "    for j in range(b // 2 - n, b // 2 + n + 1):\n",
    "        xmax = math.floor(math.sqrt((1 - (b // 2 - j) ** 2 / (n * n)) * m * m))\n",
    "        for i in range(a // 2 - xmax, a // 2 + (xmax + 1)):\n",
    "            img[j, i] = ellipse_color\n",
    "    plt.imshow(img)"
   ]
  },
  {
   "cell_type": "code",
   "execution_count": 8,
   "metadata": {},
   "outputs": [
    {
     "data": {
      "image/png": "[encoded data removed]",
      "text/plain": [
       "<Figure size 640x480 with 1 Axes>"
      ]
     },
     "metadata": {},
     "output_type": "display_data"
    }
   ],
   "source": [
    "draw_rectangle(8, 5, 4, 3, (255, 255, 255), (0, 0, 0))"
   ]
  },
  {
   "cell_type": "code",
   "execution_count": 9,
   "metadata": {},
   "outputs": [
    {
     "data": {
      "image/png": "[encoded data removed]",
      "text/plain": [
       "<Figure size 640x480 with 1 Axes>"
      ]
     },
     "metadata": {},
     "output_type": "display_data"
    }
   ],
   "source": [
    "draw_ellipse(32, 32, 10, 6, (255, 255, 255), (0, 0, 0))"
   ]
  },
  {
   "cell_type": "markdown",
   "metadata": {
    "id": "S82c38oz244H"
   },
   "source": [
    "<h1>Задача 7. Дан некий временной ряд. Для данного ряда нужно найти его: математическое ожидание, дисперсию, СКО, найти все локальные максимумы и минимумы (локальный максимум - это точка, которая больше своих соседних точек, а локальный минимум - это точка, которая меньше своих соседей), а также вычислить для данного ряда другой ряд, получаемый методом скользящего среднего с размером окна $p$.\n",
    "<h1>Примечание: метод скользящего среднего подразумевает нахождение среднего из подмножетсва ряда размером $p$"
   ]
  },
  {
   "cell_type": "code",
   "execution_count": 8,
   "metadata": {
    "id": "Zb9mIVge5MMt"
   },
   "outputs": [
    {
     "name": "stdout",
     "output_type": "stream",
     "text": [
      "[ 2.6        51.04        7.14422844]\n",
      "(array([-10,   5]), array([10,  8]))\n",
      "[0.         5.         7.66666667]\n"
     ]
    }
   ],
   "source": [
    "def analyze1(arr):\n",
    "    result = np.zeros(3)\n",
    "    result[0] = np.mean(arr)\n",
    "    result[1] = np.var(arr)\n",
    "    result[2] = np.sqrt(result[1])\n",
    "    return result\n",
    "\n",
    "def localminmax(arr):\n",
    "    maxes = arr[np.insert(arr[1:] > arr[:-1], 0, True) & np.append(arr[:-1] > arr[1:], True)]\n",
    "    mins  = arr[np.insert(arr[1:] < arr[:-1], 0, True) & np.append(arr[:-1] < arr[1:], True)]\n",
    "    return mins, maxes\n",
    "\n",
    "def slipping_avg(arr, p):\n",
    "    return np.convolve(arr, np.full(p, 1/p), 'valid')\n",
    "\n",
    "testarray = np.array([-10, 0, 10, 5, 8])\n",
    "print(analyze1(testarray))\n",
    "print(localminmax(testarray))\n",
    "print(slipping_avg(testarray, 3))"
   ]
  },
  {
   "cell_type": "markdown",
   "metadata": {
    "id": "jPkylmOX5O9n"
   },
   "source": [
    "<h1> Задача 8. Дан некоторый вектор с целочисленными метками классов, напишите функцию, которая выполняет one-hot-encoding для данного вектора\n",
    "<h1> One-hot-encoding - представление, в котором на месте метки некоторого класса стоит 1, в остальных позициях стоит 0. Например для вектора [0, 2, 3, 0] one-hot-encoding выглядит как: [[1, 0, 0, 0], [0, 0, 1, 0], [0, 0, 0, 1], [1, 0, 0, 0]]"
   ]
  },
  {
   "cell_type": "code",
   "execution_count": 11,
   "metadata": {
    "id": "Y-jlnZvw56lD"
   },
   "outputs": [
    {
     "name": "stdout",
     "output_type": "stream",
     "text": [
      "[[1 0 0 0]\n",
      " [0 0 1 0]\n",
      " [0 0 0 1]\n",
      " [1 0 0 0]]\n"
     ]
    }
   ],
   "source": [
    "def one_hot(vec):\n",
    "    result = np.full((np.shape(vec)[0], np.max(vec) + 1), 0)\n",
    "    for i, it in enumerate(vec):\n",
    "        result[i][it] = 1\n",
    "    return result\n",
    "\n",
    "print(one_hot(np.array([0, 2, 3, 0])))"
   ]
  },
  {
   "cell_type": "code",
   "execution_count": null,
   "metadata": {},
   "outputs": [],
   "source": []
  }
 ],
 "metadata": {
  "colab": {
   "provenance": []
  },
  "kernelspec": {
   "display_name": "Python 3 (ipykernel)",
   "language": "python",
   "name": "python3"
  },
  "language_info": {
   "codemirror_mode": {
    "name": "ipython",
    "version": 3
   },
   "file_extension": ".py",
   "mimetype": "text/x-python",
   "name": "python",
   "nbconvert_exporter": "python",
   "pygments_lexer": "ipython3",
   "version": "3.13.7"
  }
 },
 "nbformat": 4,
 "nbformat_minor": 4
}
