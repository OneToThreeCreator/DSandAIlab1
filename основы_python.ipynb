{
 "cells": [
  {
   "cell_type": "markdown",
   "metadata": {
    "id": "M-DGa20PaHnu"
   },
   "source": [
    "#Задача 1\n",
    "Написать функцию на вход которой подается строка, состоящая из латинских букв.\n",
    "Функция должна вернуть количество гласных букв (a, e, i, o, u) в этой строке. Написать тесты для кода"
   ]
  },
  {
   "cell_type": "code",
   "execution_count": 1,
   "metadata": {
    "id": "XvX8X_JJ6PCb"
   },
   "outputs": [
    {
     "name": "stdout",
     "output_type": "stream",
     "text": [
      "5\n",
      "2\n",
      "2\n"
     ]
    }
   ],
   "source": [
    "def count(string):\n",
    "    return sum((int(c in \"aeiou\") for c in string.lower()))\n",
    "\n",
    "print(count(\"AeIoU\"))\n",
    "print(count(\"Testtask\"))\n",
    "print(count(\"Linux\"))"
   ]
  },
  {
   "cell_type": "markdown",
   "metadata": {
    "id": "t2ClV_Y0bbr6"
   },
   "source": [
    "# Задача 2\n",
    "Написать функцию на вход, которой подается строка. Функция должна вернуть true, если\n",
    "каждый символ в строке встречается только 1 раз, иначе должна вернуть false. Написать тесты для кода"
   ]
  },
  {
   "cell_type": "code",
   "execution_count": 2,
   "metadata": {
    "id": "FppbECao6VIz"
   },
   "outputs": [
    {
     "name": "stdout",
     "output_type": "stream",
     "text": [
      "True\n",
      "False\n",
      "False\n"
     ]
    }
   ],
   "source": [
    "def unique(string):\n",
    "    return len(set(string.lower())) == len(string)\n",
    "\n",
    "print(unique(\"Linux\"))\n",
    "print(unique(\"Windows\"))\n",
    "print(unique(\"Test\"))"
   ]
  },
  {
   "cell_type": "markdown",
   "metadata": {
    "id": "udRiIK1cdt6E"
   },
   "source": [
    "# Задача 3\n",
    "Написать функцию, которая принимает положительное число и возвращает количество\n",
    "бит равных 1 в этом числе. Написать тесты для кода"
   ]
  },
  {
   "cell_type": "code",
   "execution_count": 10,
   "metadata": {
    "id": "6tkfDJRz6dp_"
   },
   "outputs": [
    {
     "name": "stdout",
     "output_type": "stream",
     "text": [
      "1\n",
      "1\n"
     ]
    },
    {
     "data": {
      "text/plain": [
       "8"
      ]
     },
     "execution_count": 10,
     "metadata": {},
     "output_type": "execute_result"
    }
   ],
   "source": [
    "import itertools\n",
    "import math\n",
    "\n",
    "def countBits(num):\n",
    "    return sum(((num >> i) & 1 for i in range(math.floor(math.log2(num)) + 1)))\n",
    "\n",
    "print(countBits(1))\n",
    "print(countBits(256))\n",
    "countBits(255)"
   ]
  },
  {
   "cell_type": "markdown",
   "metadata": {
    "id": "26dDUz-Ae17N"
   },
   "source": [
    "# Задача 4\n",
    "Написать функцию, которая принимает положительное число. Функция должна вернуть то,\n",
    "сколько раз необходимо перемножать цифры числа или результат перемножения, чтобы\n",
    "получилось число состоящее из одной цифры.\n",
    "Например, для входного числа:\n",
    "· 39 функция должна вернуть 3, так как 3*9=27 => 2*7=14 => 1*4=4\n",
    "· 4 функция должна вернуть 0, так как число уже состоит из одной цифры\n",
    "· 999 функция должна вернуть 4, так как 9*9*9=729 => 7*2*9=126 => 1*2*6=12 =>\n",
    "1*2=2. Написать тесты для кода"
   ]
  },
  {
   "cell_type": "code",
   "execution_count": 6,
   "metadata": {
    "id": "BH1A_Mgi6i4G"
   },
   "outputs": [
    {
     "name": "stdout",
     "output_type": "stream",
     "text": [
      "3\n",
      "0\n",
      "4\n"
     ]
    }
   ],
   "source": [
    "import operator\n",
    "import functools\n",
    "\n",
    "def magic(n):\n",
    "    counter = 0\n",
    "    nstr = str(n)\n",
    "    while len(nstr) > 1:\n",
    "        nstr = str(functools.reduce(operator.mul, map(int, nstr)))\n",
    "        counter += 1\n",
    "    return counter\n",
    "\n",
    "print(magic(39))\n",
    "print(magic(4))\n",
    "print(magic(999))"
   ]
  },
  {
   "cell_type": "markdown",
   "metadata": {
    "id": "0nS-kIa8g8vd"
   },
   "source": [
    "# Задача 5\n",
    "Написать функцию, которая принимает два целочисленных вектора одинаковой длины и\n",
    "возвращает среднеквадратическое отклонение двух векторов. Написать тесты для кода"
   ]
  },
  {
   "cell_type": "code",
   "execution_count": 8,
   "metadata": {
    "id": "8iphx4LM6xbx"
   },
   "outputs": [
    {
     "name": "stdout",
     "output_type": "stream",
     "text": [
      "1.5811388300841898\n"
     ]
    }
   ],
   "source": [
    "import itertools\n",
    "import math\n",
    "import operator\n",
    "\n",
    "def mse(pred, true):\n",
    "    return math.sqrt(sum(map(pow, map(operator.sub, pred, true), itertools.repeat(2))) / len(true))\n",
    "\n",
    "print(mse([1, 2], [2, 4]))"
   ]
  },
  {
   "cell_type": "markdown",
   "metadata": {
    "id": "vpIPKL439zkw"
   },
   "source": [
    "# Задача 6\n",
    "Написать функцию, принимающая целое положительное число. Функция должна вернуть\n",
    "строку вида “(n1**p1)(n2**p2)…(nk**pk)” представляющая разложение числа на простые\n",
    "множители (если pi == 1, то выводить только ni).\n",
    "Например, для числа 86240 функция должна вернуть “(2**5)(5)(7**2)(11)”. Написать тесты для кода"
   ]
  },
  {
   "cell_type": "code",
   "execution_count": 1,
   "metadata": {
    "id": "pFebmcZk94Jw"
   },
   "outputs": [
    {
     "name": "stdout",
     "output_type": "stream",
     "text": [
      "(2**5)(5)(7**2)(11)\n",
      "(3)(17)(19)(89)\n"
     ]
    }
   ],
   "source": [
    "import math\n",
    "\n",
    "def factorize(num):\n",
    "    primes = [2, 3]\n",
    "    for i in range(5, math.floor(math.sqrt(num)) + 1, 2):\n",
    "        maxp = math.sqrt(i)\n",
    "        for p in primes:\n",
    "            if p > maxp:\n",
    "                primes.append(i)\n",
    "                break\n",
    "            if i % p == 0:\n",
    "                break\n",
    "\n",
    "    factors = \"\"\n",
    "    for i in primes:\n",
    "        counter = 0\n",
    "        while num % i == 0:\n",
    "            num //= i\n",
    "            counter += 1\n",
    "        if counter == 0:\n",
    "            continue\n",
    "        if counter == 1:\n",
    "            factors += f\"({i})\"\n",
    "            continue\n",
    "        factors += f\"({i}**{counter})\"\n",
    "    if len(factors) == 0:\n",
    "        factors = f\"({num})\" # When number has no prime factors\n",
    "    return factors\n",
    "\n",
    "print(factorize(86240))\n",
    "print(factorize(86241))"
   ]
  },
  {
   "cell_type": "markdown",
   "metadata": {
    "id": "ps2s0BudX7A2"
   },
   "source": [
    "# Задача 7\n",
    "Написать функцию, принимающая целое число n, задающее количество кубиков. Функция\n",
    "должна определить, можно ли из данного кол-ва кубиков построить пирамиду, то есть\n",
    "можно ли представить число n как 1^2+2^2+3^2+…+k^2. Если можно, то функция должна\n",
    "вернуть k, иначе строку “It is impossible”. Написать тесты для кода"
   ]
  },
  {
   "cell_type": "code",
   "execution_count": 2,
   "metadata": {
    "id": "3YPjEXxhX_YT"
   },
   "outputs": [
    {
     "name": "stdout",
     "output_type": "stream",
     "text": [
      "2\n",
      "It is impossible\n",
      "1\n",
      "3\n"
     ]
    }
   ],
   "source": [
    "import itertools\n",
    "import math\n",
    "\n",
    "def pyramid(number):\n",
    "    s = 0\n",
    "    for i in itertools.count(1):\n",
    "        s += i ** 2\n",
    "        if s == number:\n",
    "            return i\n",
    "        if s > number:\n",
    "            return \"It is impossible\"\n",
    "\n",
    "print(pyramid(5))\n",
    "print(pyramid(10))\n",
    "print(pyramid(1))\n",
    "print(pyramid(14))"
   ]
  },
  {
   "cell_type": "markdown",
   "metadata": {
    "id": "KeKgmIdAQMEJ"
   },
   "source": [
    "# Задача 8\n",
    "Функция принимает на вход положительное число и определяет является ли оно сбалансированным, т.е. сумма цифр до средних равна сумме цифр после. Средними в случае нечетного числа цифр считать одну цифру, в случае четного - две средних. Написать тесты для кода"
   ]
  },
  {
   "cell_type": "code",
   "execution_count": 4,
   "metadata": {
    "id": "gMAAqtqlQrZt"
   },
   "outputs": [
    {
     "name": "stdout",
     "output_type": "stream",
     "text": [
      "True\n",
      "True\n",
      "False\n",
      "True\n"
     ]
    }
   ],
   "source": [
    "def balanced(num):\n",
    "    snum = str(num)\n",
    "    return sum(map(int, snum[:(len(snum)+1)//2-1])) == sum(map(int, snum[len(snum)//2+1:]))\n",
    "\n",
    "print(balanced(12321))\n",
    "print(balanced(12312))\n",
    "print(balanced(123))\n",
    "print(balanced(652347))"
   ]
  },
  {
   "cell_type": "code",
   "execution_count": null,
   "metadata": {},
   "outputs": [],
   "source": []
  }
 ],
 "metadata": {
  "colab": {
   "provenance": []
  },
  "kernelspec": {
   "display_name": "Python 3 (ipykernel)",
   "language": "python",
   "name": "python3"
  },
  "language_info": {
   "codemirror_mode": {
    "name": "ipython",
    "version": 3
   },
   "file_extension": ".py",
   "mimetype": "text/x-python",
   "name": "python",
   "nbconvert_exporter": "python",
   "pygments_lexer": "ipython3",
   "version": "3.13.7"
  }
 },
 "nbformat": 4,
 "nbformat_minor": 4
}
